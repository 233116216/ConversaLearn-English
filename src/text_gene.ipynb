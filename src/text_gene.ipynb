{
 "cells": [
  {
   "cell_type": "code",
   "execution_count": 1,
   "metadata": {},
   "outputs": [
    {
     "name": "stdout",
     "output_type": "stream",
     "text": [
      "Requirement already satisfied: pynput in c:\\users\\celes\\appdata\\local\\programs\\python\\python312\\lib\\site-packages (1.7.6)\n",
      "Requirement already satisfied: pyperclip in c:\\users\\celes\\appdata\\local\\programs\\python\\python312\\lib\\site-packages (1.8.2)\n",
      "Requirement already satisfied: httpx in c:\\users\\celes\\appdata\\local\\programs\\python\\python312\\lib\\site-packages (0.27.0)\n",
      "Requirement already satisfied: six in c:\\users\\celes\\appdata\\roaming\\python\\python312\\site-packages (from pynput) (1.16.0)\n",
      "Requirement already satisfied: anyio in c:\\users\\celes\\appdata\\local\\programs\\python\\python312\\lib\\site-packages (from httpx) (4.3.0)\n",
      "Requirement already satisfied: certifi in c:\\users\\celes\\appdata\\local\\programs\\python\\python312\\lib\\site-packages (from httpx) (2024.2.2)\n",
      "Requirement already satisfied: httpcore==1.* in c:\\users\\celes\\appdata\\local\\programs\\python\\python312\\lib\\site-packages (from httpx) (1.0.5)\n",
      "Requirement already satisfied: idna in c:\\users\\celes\\appdata\\local\\programs\\python\\python312\\lib\\site-packages (from httpx) (3.6)\n",
      "Requirement already satisfied: sniffio in c:\\users\\celes\\appdata\\local\\programs\\python\\python312\\lib\\site-packages (from httpx) (1.3.1)\n",
      "Requirement already satisfied: h11<0.15,>=0.13 in c:\\users\\celes\\appdata\\local\\programs\\python\\python312\\lib\\site-packages (from httpcore==1.*->httpx) (0.14.0)\n",
      "Note: you may need to restart the kernel to use updated packages.\n"
     ]
    }
   ],
   "source": [
    "pip install pynput pyperclip httpx"
   ]
  },
  {
   "cell_type": "code",
   "execution_count": 2,
   "metadata": {},
   "outputs": [
    {
     "name": "stdout",
     "output_type": "stream",
     "text": [
      "{'error': 'model is required'}\n"
     ]
    }
   ],
   "source": [
    "import httpx\n",
    "from string import Template\n",
    "import httpx\n",
    "\n",
    "OLLAMA_ENDPOINT = \"http://localhost:11434/api/generate\"\n",
    "OLLAMA_CONFIG = {\n",
    "    \"model\": \"mistral\",\n",
    "    \"keep_alive\": \"5m\",\n",
    "    \"stream\": False,\n",
    "}\n",
    "\n",
    "# Define the input text\n",
    "input_text = \"This is an incomplete sentence\"\n",
    "\n",
    "# Make the HTTP POST request to the OLLAMA endpoint\n",
    "response = httpx.post(OLLAMA_ENDPOINT, json={\"text\": input_text, \"config\": OLLAMA_CONFIG})\n",
    "\n",
    "# Get the completed sentence from the response\n",
    "\n",
    "\n",
    "# Print the completed sentence\n",
    "print(response.json())\n",
    "\n",
    "\n",
    "\n"
   ]
  },
  {
   "cell_type": "code",
   "execution_count": 3,
   "metadata": {},
   "outputs": [],
   "source": [
    "import ollama\n",
    "\n"
   ]
  },
  {
   "cell_type": "code",
   "execution_count": 4,
   "metadata": {},
   "outputs": [],
   "source": [
    "contexte = []"
   ]
  },
  {
   "cell_type": "code",
   "execution_count": 5,
   "metadata": {},
   "outputs": [
    {
     "name": "stdout",
     "output_type": "stream",
     "text": [
      " Hello Célestin, yes, I have been to a zoo before. It's always an exciting experience to see various animals up close. Enjoy your visit!\n"
     ]
    }
   ],
   "source": [
    "msg = [\n",
    "    {\n",
    "        \"role\": \"system\",\n",
    "        \"content\" : \"\"\"You are a friendly AI assistant living in an English-speaking country. The user you're interacting with is French. Your respons are in English and should not exceed 30 words approximatly.\n",
    "        \"\"\"\n",
    "    \n",
    "    \n",
    "    \n",
    "    \n",
    "    },\n",
    "    {\n",
    "        \"role\" : \"user\",\n",
    "        \"content\" : \"Hello, I'm Célestin and I'm going to the zoo this afternoon, has you ever been to the zoo?\"\n",
    "    }\n",
    "]\n",
    "\n",
    "output = ollama.chat(\n",
    "    model='mistral',\n",
    "    messages=msg\n",
    ")\n",
    "\n",
    "print(output['message']['content'])\n"
   ]
  },
  {
   "cell_type": "code",
   "execution_count": 6,
   "metadata": {},
   "outputs": [
    {
     "name": "stdout",
     "output_type": "stream",
     "text": [
      "<class 'list'>\n"
     ]
    }
   ],
   "source": [
    "print(type(msg))"
   ]
  },
  {
   "cell_type": "code",
   "execution_count": 7,
   "metadata": {},
   "outputs": [],
   "source": [
    "msg.append({\"role\": \"system\",\n",
    "            \"content\": output['message']['content']})"
   ]
  },
  {
   "cell_type": "code",
   "execution_count": 8,
   "metadata": {},
   "outputs": [
    {
     "name": "stdout",
     "output_type": "stream",
     "text": [
      "[{'role': 'system', 'content': \"You are a friendly AI assistant living in an English-speaking country. The user you're interacting with is French. Your respons are in English and should not exceed 30 words approximatly.\\n        \"}, {'role': 'user', 'content': \"Hello, I'm Célestin and I'm going to the zoo this afternoon, has you ever been to the zoo?\"}, {'role': 'system', 'content': \" Hello Célestin, yes, I have been to a zoo before. It's always an exciting experience to see various animals up close. Enjoy your visit!\"}]\n"
     ]
    }
   ],
   "source": [
    "print(msg)"
   ]
  },
  {
   "cell_type": "code",
   "execution_count": 9,
   "metadata": {},
   "outputs": [],
   "source": [
    "output = ollama.chat(\n",
    "    model='mistral',\n",
    "    messages=msg\n",
    ")\n",
    "\n"
   ]
  },
  {
   "cell_type": "code",
   "execution_count": 10,
   "metadata": {},
   "outputs": [
    {
     "name": "stdout",
     "output_type": "stream",
     "text": [
      "Role: system\n",
      "Content: You are a friendly AI assistant living in an English-speaking country. The user you're interacting with is French. Your respons are in English and should not exceed 30 words approximatly.\n",
      "        \n",
      "\n",
      "Role: user\n",
      "Content: Hello, I'm Célestin and I'm going to the zoo this afternoon, has you ever been to the zoo?\n",
      "\n",
      "Role: system\n",
      "Content:  Hello Célestin, yes, I have been to a zoo before. It's always an exciting experience to see various animals up close. Enjoy your visit!\n",
      "\n"
     ]
    }
   ],
   "source": [
    "for message in msg:\n",
    "    print(f\"Role: {message['role']}\")\n",
    "    print(f\"Content: {message['content']}\")\n",
    "    print()\n"
   ]
  },
  {
   "cell_type": "code",
   "execution_count": 2,
   "metadata": {},
   "outputs": [
    {
     "name": "stdout",
     "output_type": "stream",
     "text": [
      "########\n",
      " The correct sentence is 'I'd love to play football.' In English, we use the infinitive form 'to play' after verbs like 'love,' 'enjoy,' and 'like' when expressing a desire or intention.\n",
      "############\n",
      "system : You are an automatic English grammar corrector. Your task is to identify and correct grammatical errors in the sentences given by users, who are French learners of English. You must provide a clear and concise explanation of each grammatical error and how to correct it. Your responses should be factual and should not exceed 40 words.\n",
      "\n",
      "Here are some examples of how you should respond:\n",
      "\n",
      "User: I likes to play soccer.\n",
      "System: The correct sentence is 'I like to play soccer.' The verb 'like' does not need an 's' after 'I' in the present simple tense.\n",
      "\n",
      "User: She don't have a car.\n",
      "System: The correct sentence is 'She doesn't have a car.' The contraction of 'does not' is 'doesn't' in the present simple tense.\n",
      "\n",
      "User: I am going to the zoo this afternoon, have you ever been to the zoo?\n",
      "System: Your sentence is grammatically correct. However, in informal English, 'Have you ever been to the zoo?' can be shortened to 'Have you been to the zoo?' when asking if someone has visited the zoo before.\n",
      "        \n",
      "user : Hello, I'd love to play to the football \n",
      "system :  The correct sentence is 'I'd love to play football.' In English, we use the infinitive form 'to play' after verbs like 'love,' 'enjoy,' and 'like' when expressing a desire or intention.\n",
      "\n",
      "\n"
     ]
    }
   ],
   "source": [
    "from LLM_control import *\n",
    "\n",
    "reset_fichier_sauv(\"test.txt\")\n",
    "\n",
    "msg = init_message_agent_correction()\n",
    "\n",
    "msg_user = \"Hello, I'd love to play to the football \"\n",
    "\n",
    "msg = rajout_message_user(msg, msg_user)\n",
    "\"\"\"\n",
    "gene_message_suivant(msg)\n",
    "\n",
    "print_conv(msg)\n",
    "\n",
    "sauv_message_user(msg, \"test.txt\")\n",
    "\"\"\"\n",
    "print(\"########\")\n",
    "print(last_respond_LLM(msg))\n",
    "print(\"############\")\n",
    "print_conv(msg)\n",
    "\n",
    "sauv_message_user(msg, \"test.txt\")"
   ]
  }
 ],
 "metadata": {
  "kernelspec": {
   "display_name": "Python 3",
   "language": "python",
   "name": "python3"
  },
  "language_info": {
   "codemirror_mode": {
    "name": "ipython",
    "version": 3
   },
   "file_extension": ".py",
   "mimetype": "text/x-python",
   "name": "python",
   "nbconvert_exporter": "python",
   "pygments_lexer": "ipython3",
   "version": "3.12.2"
  }
 },
 "nbformat": 4,
 "nbformat_minor": 2
}
